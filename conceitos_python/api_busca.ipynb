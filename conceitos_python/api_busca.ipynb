{
 "cells": [
  {
   "cell_type": "code",
   "execution_count": 1,
   "metadata": {},
   "outputs": [
    {
     "name": "stdout",
     "output_type": "stream",
     "text": [
      "Estado: São Paulo\n",
      "Cidade: São Paulo\n",
      "Bairro: Parada XV de Novembro\n",
      "Rua: Rua Virginía Ferni\n"
     ]
    }
   ],
   "source": [
    "import requests\n",
    "\n",
    "def obter_informacoes_endereco(api_key, endereco):\n",
    "    # URL da API do OpenCage Geocoding\n",
    "    url = f'https://api.opencagedata.com/geocode/v1/json?q={endereco}&key={api_key}'\n",
    "\n",
    "    # Faz a requisição à API\n",
    "    response = requests.get(url)\n",
    "\n",
    "    # Verifica se a requisição foi bem-sucedida (código de status 200)\n",
    "    if response.status_code == 200:\n",
    "        # Converte a resposta para JSON\n",
    "        resultado = response.json()\n",
    "\n",
    "        # Extrai informações do endereço\n",
    "        if resultado['results']:\n",
    "            resultado = resultado['results'][0]\n",
    "            estado = resultado['components']['state']\n",
    "            cidade = resultado['components']['city']\n",
    "            bairro = resultado['components']['suburb']\n",
    "            rua = resultado['components']['road']\n",
    "            \n",
    "            return {\n",
    "                'estado': estado,\n",
    "                'cidade': cidade,\n",
    "                'bairro': bairro,\n",
    "                'rua': rua\n",
    "            }\n",
    "        else:\n",
    "            return None\n",
    "    else:\n",
    "        print(f'Erro na requisição. Código de status: {response.status_code}')\n",
    "        return None\n",
    "\n",
    "# Substitua 'SUA_CHAVE_API' pela chave de API que você obteve no site do OpenCage\n",
    "chave_api = '839163165d944d4b9cfd42fcc38b657b'\n",
    "\n",
    "# Exemplo de uso\n",
    "endereco_pesquisa = 'Rua Virgínia Ferni'\n",
    "informacoes_endereco = obter_informacoes_endereco(chave_api, endereco_pesquisa)\n",
    "\n",
    "if informacoes_endereco:\n",
    "    print(f\"Estado: {informacoes_endereco['estado']}\")\n",
    "    print(f\"Cidade: {informacoes_endereco['cidade']}\")\n",
    "    print(f\"Bairro: {informacoes_endereco['bairro']}\")\n",
    "    print(f\"Rua: {informacoes_endereco['rua']}\")\n",
    "else:\n",
    "    print(\"Endereço não encontrado.\")\n"
   ]
  }
 ],
 "metadata": {
  "kernelspec": {
   "display_name": "Python 3",
   "language": "python",
   "name": "python3"
  },
  "language_info": {
   "codemirror_mode": {
    "name": "ipython",
    "version": 3
   },
   "file_extension": ".py",
   "mimetype": "text/x-python",
   "name": "python",
   "nbconvert_exporter": "python",
   "pygments_lexer": "ipython3",
   "version": "3.12.0"
  }
 },
 "nbformat": 4,
 "nbformat_minor": 2
}
