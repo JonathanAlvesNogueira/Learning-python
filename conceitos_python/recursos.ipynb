{
 "cells": [
  {
   "cell_type": "code",
   "execution_count": 4,
   "metadata": {},
   "outputs": [
    {
     "data": {
      "text/plain": [
       "['sim', 0, 0, 0, 0]"
      ]
     },
     "metadata": {},
     "output_type": "display_data"
    }
   ],
   "source": [
    "lista = [1,2,3,4,5]\n",
    "#'lista compression'\n",
    "lista2 = ['sim' if i < 2 else 0 for i in lista]\n",
    "display(lista2)"
   ]
  },
  {
   "cell_type": "code",
   "execution_count": 15,
   "metadata": {},
   "outputs": [
    {
     "name": "stdout",
     "output_type": "stream",
     "text": [
      "0\n",
      "3\n",
      "6\n",
      "9\n"
     ]
    }
   ],
   "source": [
    "indices = range(0,10,3)\n",
    "\n",
    "for i in indices:\n",
    "    print(i)"
   ]
  },
  {
   "cell_type": "code",
   "execution_count": 19,
   "metadata": {},
   "outputs": [
    {
     "name": "stdout",
     "output_type": "stream",
     "text": [
      "j\n",
      "o\n",
      "n\n",
      "a\n",
      "s\n",
      "fim\n"
     ]
    }
   ],
   "source": [
    "# Usando iter\n",
    "nome = 'jonas'\n",
    "nome = iter(nome)\n",
    "while True:\n",
    "    try:\n",
    "        print(nome.__next__())\n",
    "    except:\n",
    "        print('fim')\n",
    "        break"
   ]
  },
  {
   "cell_type": "code",
   "execution_count": 33,
   "metadata": {},
   "outputs": [
    {
     "data": {
      "text/plain": [
       "[1, 2, 3, 4, 5, 6, 7, 10, 2]"
      ]
     },
     "execution_count": 33,
     "metadata": {},
     "output_type": "execute_result"
    }
   ],
   "source": [
    "numero = [1,2,3,4,5,6,7]\n",
    "list(numero)\n",
    "numero.append(10)\n",
    "numero"
   ]
  },
  {
   "cell_type": "code",
   "execution_count": 41,
   "metadata": {},
   "outputs": [
    {
     "data": {
      "text/plain": [
       "['jonathan', 'pedro', 'andre']"
      ]
     },
     "execution_count": 41,
     "metadata": {},
     "output_type": "execute_result"
    }
   ],
   "source": [
    "import pandas as pd\n",
    "dados = {'nome' : ['joans', 'jonathan', 'pedro', 'andre'],\n",
    "         'idade': [10,20, 30,40] }\n",
    "\n",
    "df =  pd.DataFrame(dados)\n",
    "\n",
    "df2, *resto = df['nome']\n",
    "resto\n"
   ]
  }
 ],
 "metadata": {
  "kernelspec": {
   "display_name": "Python 3",
   "language": "python",
   "name": "python3"
  },
  "language_info": {
   "codemirror_mode": {
    "name": "ipython",
    "version": 3
   },
   "file_extension": ".py",
   "mimetype": "text/x-python",
   "name": "python",
   "nbconvert_exporter": "python",
   "pygments_lexer": "ipython3",
   "version": "3.12.0"
  }
 },
 "nbformat": 4,
 "nbformat_minor": 2
}
