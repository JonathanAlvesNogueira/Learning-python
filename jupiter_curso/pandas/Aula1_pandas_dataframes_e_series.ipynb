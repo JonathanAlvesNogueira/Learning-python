{
 "cells": [
  {
   "cell_type": "code",
   "execution_count": 3,
   "metadata": {},
   "outputs": [
    {
     "name": "stdout",
     "output_type": "stream",
     "text": [
      "0    11\n",
      "1    22\n",
      "2     3\n",
      "3    44\n",
      "4     5\n",
      "5     6\n",
      "dtype: int64\n"
     ]
    }
   ],
   "source": [
    "### Dataframes nada mais é que uma tabela\n",
    "\n",
    "### Importando pandas \n",
    "import pandas as pd \n",
    "\n",
    "###  cria um objeto Pandas Series chamado \"lista_a\" que e uma estrutura de dados é uma estrutura de dados unidimensional (Uma coluna e dados )\n",
    "numeros = [11,22,3,44,5,6]\n",
    "lista_a = pd.Series(numeros)\n",
    "print(lista_a)\n",
    "\n"
   ]
  },
  {
   "cell_type": "code",
   "execution_count": 6,
   "metadata": {},
   "outputs": [
    {
     "name": "stdout",
     "output_type": "stream",
     "text": [
      "       nome  idade\n",
      "0  jonathan     20\n"
     ]
    }
   ],
   "source": [
    "#  um DataFrame é uma estrutura de dados tabular bidimensional, s\n",
    "# semelhante a uma planilha ou uma tabela de banco de dados, onde temos linha e colunas . \n",
    "pessoa = {\n",
    "    'nome' : ['jonathan'],\n",
    "    'idade' : [20]\n",
    "}\n",
    "pessoas = pd.DataFrame(pessoa)\n",
    "print(pessoas)"
   ]
  }
 ],
 "metadata": {
  "kernelspec": {
   "display_name": "Python 3",
   "language": "python",
   "name": "python3"
  },
  "language_info": {
   "codemirror_mode": {
    "name": "ipython",
    "version": 3
   },
   "file_extension": ".py",
   "mimetype": "text/x-python",
   "name": "python",
   "nbconvert_exporter": "python",
   "pygments_lexer": "ipython3",
   "version": "3.11.3"
  },
  "orig_nbformat": 4
 },
 "nbformat": 4,
 "nbformat_minor": 2
}
