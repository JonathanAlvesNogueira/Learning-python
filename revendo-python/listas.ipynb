{
 "cells": [
  {
   "cell_type": "code",
   "execution_count": 7,
   "metadata": {},
   "outputs": [
    {
     "data": {
      "text/plain": [
       "[1, 2.3, 4, 56, 7, 0]"
      ]
     },
     "metadata": {},
     "output_type": "display_data"
    },
    {
     "data": {
      "text/plain": [
       "[1, 2.3, 4, 56, 7, 0, 1, 2, 3, 4, 50]"
      ]
     },
     "metadata": {},
     "output_type": "display_data"
    }
   ],
   "source": [
    "lista = [1,2.3,4,56,7]\n",
    "# coloca item no final\n",
    "lista.append(0)\n",
    "display(lista)\n",
    "\n",
    "# coloca lista no final \n",
    "lista2 = [1,2,3,4,50]\n",
    "lista.extend(lista2)\n",
    "display(lista)"
   ]
  },
  {
   "cell_type": "code",
   "execution_count": 8,
   "metadata": {},
   "outputs": [
    {
     "data": {
      "text/plain": [
       "2"
      ]
     },
     "execution_count": 8,
     "metadata": {},
     "output_type": "execute_result"
    }
   ],
   "source": [
    "# conta itens 1 da lista \n",
    "lista.count(1)"
   ]
  },
  {
   "cell_type": "code",
   "execution_count": 9,
   "metadata": {},
   "outputs": [
    {
     "data": {
      "text/plain": [
       "[0]"
      ]
     },
     "metadata": {},
     "output_type": "display_data"
    },
    {
     "data": {
      "text/plain": [
       "[0, 2]"
      ]
     },
     "metadata": {},
     "output_type": "display_data"
    },
    {
     "data": {
      "text/plain": [
       "[0, 2, 4]"
      ]
     },
     "metadata": {},
     "output_type": "display_data"
    },
    {
     "data": {
      "text/plain": [
       "[0, 2, 4, 6]"
      ]
     },
     "metadata": {},
     "output_type": "display_data"
    },
    {
     "data": {
      "text/plain": [
       "[0, 2, 4, 6, 8]"
      ]
     },
     "metadata": {},
     "output_type": "display_data"
    },
    {
     "data": {
      "text/plain": [
       "[0, 2, 4, 6, 8, 10]"
      ]
     },
     "metadata": {},
     "output_type": "display_data"
    },
    {
     "data": {
      "text/plain": [
       "[0, 2, 4, 6, 8, 10, 12]"
      ]
     },
     "metadata": {},
     "output_type": "display_data"
    },
    {
     "data": {
      "text/plain": [
       "[0, 2, 4, 6, 8, 10, 12, 14]"
      ]
     },
     "metadata": {},
     "output_type": "display_data"
    },
    {
     "data": {
      "text/plain": [
       "[0, 2, 4, 6, 8, 10, 12, 14, 16]"
      ]
     },
     "metadata": {},
     "output_type": "display_data"
    },
    {
     "data": {
      "text/plain": [
       "[0, 2, 4, 6, 8, 10, 12, 14, 16, 18]"
      ]
     },
     "metadata": {},
     "output_type": "display_data"
    }
   ],
   "source": [
    "# LAMBDA\n",
    "dois = lambda x: x*2\n",
    "lista = []\n",
    "for i in range(10):\n",
    "    lista.append(dois(i))\n",
    "    display(lista)"
   ]
  },
  {
   "cell_type": "code",
   "execution_count": 16,
   "metadata": {},
   "outputs": [
    {
     "data": {
      "text/plain": [
       "[1, 2, 3, 4, 5, 6, 7, 8, 9, 10, 11, 12]"
      ]
     },
     "metadata": {},
     "output_type": "display_data"
    }
   ],
   "source": [
    "lista = [1,2,3,4,5,6,7,8,9,7,1,2]\n",
    "tamanho = len(lista)\n",
    "\n",
    "# cria um iteravel dentro da lista\n",
    "quadrados = [ i+1 for i in range(0, tamanho, 1)]\n",
    "display(quadrados)"
   ]
  },
  {
   "cell_type": "code",
   "execution_count": 27,
   "metadata": {},
   "outputs": [
    {
     "data": {
      "text/plain": [
       "(0, 0)"
      ]
     },
     "metadata": {},
     "output_type": "display_data"
    },
    {
     "data": {
      "text/plain": [
       "(1, 2)"
      ]
     },
     "metadata": {},
     "output_type": "display_data"
    },
    {
     "data": {
      "text/plain": [
       "(2, 4)"
      ]
     },
     "metadata": {},
     "output_type": "display_data"
    }
   ],
   "source": [
    "lista = (1,2,3,4,5)\n",
    "for i in enumerate(range(0, len(lista), 2)):\n",
    "    display(i) # é possivel pegar somente a chave ou o indice usando I[0] ou I[1]"
   ]
  },
  {
   "cell_type": "code",
   "execution_count": 11,
   "metadata": {},
   "outputs": [
    {
     "data": {
      "text/plain": [
       "'esse é o tamanho 3'"
      ]
     },
     "metadata": {},
     "output_type": "display_data"
    },
    {
     "data": {
      "text/plain": [
       "dict_items([('nome', 'Jonas'), ('idade', '20'), ('velocidade', '5km')])"
      ]
     },
     "metadata": {},
     "output_type": "display_data"
    },
    {
     "data": {
      "text/plain": [
       "{'idade': '20', 'velocidade': '5km'}"
      ]
     },
     "metadata": {},
     "output_type": "display_data"
    },
    {
     "data": {
      "text/plain": [
       "['idade', 'velocidade']"
      ]
     },
     "metadata": {},
     "output_type": "display_data"
    },
    {
     "data": {
      "text/plain": [
       "['20', '5km']"
      ]
     },
     "metadata": {},
     "output_type": "display_data"
    },
    {
     "data": {
      "text/plain": [
       "'20'"
      ]
     },
     "metadata": {},
     "output_type": "display_data"
    }
   ],
   "source": [
    "#DICTIONARY\n",
    "\n",
    "# dicionario = {} - Cria um dicionário vazio.\n",
    "# dicionario = {'chave': 'valor'} - Inicializa um dicionário com um par chave-valor.\n",
    "# dicionario['chave'] = 'novo_valor' - Atualiza o valor associado a uma chave.\n",
    "# valor = dicionario.get('chave', default) - Obtém o valor associado a uma chave com um valor padrão opcional.\n",
    "# chaves = dicionario.keys() - Obtém uma lista das chaves do dicionário.\n",
    "# valores = dicionario.values() - Obtém uma lista dos valores do dicionário.\n",
    "# itens = dicionario.items() - Obtém uma lista de tuplas chave-valor.\n",
    "# del dicionario['chave'] - Remove um par chave-valor do dicionário.\n",
    "# dicionario.pop('chave', default) - Remove e retorna o valor associado a uma chave com um valor padrão opcional.\n",
    "# len(dicionario) - Retorna o número de pares chave-valor no dicionário.\n",
    "\n",
    "\n",
    "dict = {\n",
    "        'nome': 'Jonas',\n",
    "        'idade': '20',\n",
    "        'velocidade': '5km'\n",
    "        }\n",
    "\n",
    "tamanho = len(dict)\n",
    "display('esse é o tamanho ' + str(tamanho))\n",
    "\n",
    "display(dict.items())\n",
    "#\n",
    "dict.pop('nome')\n",
    "display(dict)\n",
    "\n",
    "chaves = list(dict.keys())\n",
    "valores = list(dict.values())\n",
    "\n",
    "display(chaves)\n",
    "display(valores)\n",
    "\n",
    "#\n",
    "usandoGet = dict.get('idade')\n",
    "display(usandoGet)\n",
    "\n"
   ]
  }
 ],
 "metadata": {
  "kernelspec": {
   "display_name": "Python 3",
   "language": "python",
   "name": "python3"
  },
  "language_info": {
   "codemirror_mode": {
    "name": "ipython",
    "version": 3
   },
   "file_extension": ".py",
   "mimetype": "text/x-python",
   "name": "python",
   "nbconvert_exporter": "python",
   "pygments_lexer": "ipython3",
   "version": "3.12.0"
  }
 },
 "nbformat": 4,
 "nbformat_minor": 2
}
