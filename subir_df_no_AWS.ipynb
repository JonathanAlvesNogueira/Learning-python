{
 "cells": [
  {
   "cell_type": "code",
   "execution_count": null,
   "metadata": {},
   "outputs": [],
   "source": [
    "import awswrangler as wr\n",
    "import pandas as pd\n",
    "\n",
    "# Carregar seu arquivo de dados para um DataFrame pandas\n",
    "df = pd.read_csv(\"caminho/do/seu/arquivo.csv\")\n",
    "\n",
    "# Subir o DataFrame para o AWS Glue Catalog\n",
    "wr.catalog.create_parquet_table(\n",
    "    database=\"workspace_db\",  # Nome do seu banco de dados Workspace DB\n",
    "    table=\"nome_da_tabela\",   # Nome da tabela que você deseja criar no Workspace DB\n",
    "    path=\"s3://caminho/para/o/seu/arquivo_no_s3/\",  # Caminho no Amazon S3 onde o arquivo será armazenado\n",
    "    df=df,  # DataFrame pandas que contém os dados a serem carregados\n",
    "    description=\"Descrição opcional da tabela\"\n",
    ")"
   ]
  }
 ],
 "metadata": {
  "language_info": {
   "name": "python"
  }
 },
 "nbformat": 4,
 "nbformat_minor": 2
}
