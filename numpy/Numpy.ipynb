{
 "cells": [
  {
   "cell_type": "code",
   "execution_count": 12,
   "metadata": {},
   "outputs": [
    {
     "name": "stdout",
     "output_type": "stream",
     "text": [
      "55\n",
      "0.0\n"
     ]
    }
   ],
   "source": [
    "# IMPORTA A TIME \n",
    "from time import time\n",
    "\n",
    "# CRIA UMA LISTA DE 0 A 10\n",
    "a = list(range(10))\n",
    "soma = 0 \n",
    "\n",
    "# INICIA A CONTAGEM DO TEMPO\n",
    "inicio = time()\n",
    "for i in a:\n",
    "    soma += i\n",
    "\n",
    "# FINALIZA A CONTAGEM DO TEMPO\n",
    "fim = time()\n",
    "tempo = fim - inicio\n",
    "\n",
    "# IMPRIME O RESULTADO DO TEMPO E DA SOMA\n",
    "print(soma)\n",
    "print(tempo)\n"
   ]
  },
  {
   "cell_type": "code",
   "execution_count": 18,
   "metadata": {},
   "outputs": [
    {
     "name": "stdout",
     "output_type": "stream",
     "text": [
      "(1, 3)\n",
      "(2, 3)\n",
      "6\n"
     ]
    }
   ],
   "source": [
    "import numpy as np\n",
    "\n",
    "# cria um array uni-dimensional\n",
    "lista = np.array([[1,1,1]])\n",
    "print(lista.shape)\n",
    "\n",
    "# cria um array bi-dimensional\n",
    "lista2 = np.array([[1,1,1],[2,2,2]])\n",
    "print(lista2.shape)\n",
    "\n",
    "# imprime o tamanho do array\n",
    "print(lista2.size)\n",
    "\n",
    "# mostra a dimensão do array\n",
    "print(lista2.ndim)\n",
    "\n",
    "\n",
    "\n",
    "# O ARRAY SO PODE TER UM TIPO DE DADO"
   ]
  },
  {
   "cell_type": "code",
   "execution_count": 19,
   "metadata": {},
   "outputs": [
    {
     "name": "stdout",
     "output_type": "stream",
     "text": [
      "[[ 0  1  2]\n",
      " [ 3  4  5]\n",
      " [ 6  7  8]\n",
      " [ 9 10 11]]\n"
     ]
    }
   ],
   "source": [
    "## cria uma matriz unidimensional com valores de 0 a 11\n",
    "arr = np.arange(12)\n",
    "\n",
    "# transforma a matriz unidimensional em uma matriz bidimensional de 4 linhas e 3 colunas\n",
    "arr_reshaped = arr.reshape(4, 3)\n",
    "\n",
    "print(arr_reshaped)\n"
   ]
  }
 ],
 "metadata": {
  "kernelspec": {
   "display_name": "Python 3",
   "language": "python",
   "name": "python3"
  },
  "language_info": {
   "codemirror_mode": {
    "name": "ipython",
    "version": 3
   },
   "file_extension": ".py",
   "mimetype": "text/x-python",
   "name": "python",
   "nbconvert_exporter": "python",
   "pygments_lexer": "ipython3",
   "version": "3.12.0"
  }
 },
 "nbformat": 4,
 "nbformat_minor": 2
}
