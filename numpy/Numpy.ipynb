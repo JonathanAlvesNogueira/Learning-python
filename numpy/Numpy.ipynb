{
 "cells": [
  {
   "cell_type": "code",
   "execution_count": 12,
   "metadata": {},
   "outputs": [
    {
     "name": "stdout",
     "output_type": "stream",
     "text": [
      "55\n",
      "0.0\n"
     ]
    }
   ],
   "source": [
    "# IMPORTA A TIME \n",
    "from time import time\n",
    "\n",
    "# CRIA UMA LISTA DE 0 A 10\n",
    "a = list(range(10))\n",
    "soma = 0 \n",
    "\n",
    "# INICIA A CONTAGEM DO TEMPO\n",
    "inicio = time()\n",
    "for i in a:\n",
    "    soma += i\n",
    "\n",
    "# FINALIZA A CONTAGEM DO TEMPO\n",
    "fim = time()\n",
    "tempo = fim - inicio\n",
    "\n",
    "# IMPRIME O RESULTADO DO TEMPO E DA SOMA\n",
    "print(soma)\n",
    "print(tempo)\n"
   ]
  },
  {
   "cell_type": "code",
   "execution_count": 18,
   "metadata": {},
   "outputs": [
    {
     "name": "stdout",
     "output_type": "stream",
     "text": [
      "(1, 3)\n",
      "(2, 3)\n",
      "6\n"
     ]
    }
   ],
   "source": [
    "import numpy as np\n",
    "\n",
    "# cria um array uni-dimensional\n",
    "lista = np.array([[1,1,1]])\n",
    "print(lista.shape)\n",
    "\n",
    "# cria um array bi-dimensional\n",
    "lista2 = np.array([[1,1,1],[2,2,2]])\n",
    "print(lista2.shape)\n",
    "\n",
    "# imprime o tamanho do array\n",
    "print(lista2.size)\n",
    "\n",
    "# mostra a dimensão do array\n",
    "print(lista2.ndim)\n",
    "\n",
    "\n",
    "\n",
    "# O ARRAY SO PODE TER UM TIPO DE DADO"
   ]
  },
  {
   "cell_type": "code",
   "execution_count": 21,
   "metadata": {},
   "outputs": [
    {
     "name": "stdout",
     "output_type": "stream",
     "text": [
      "[[2 3 4]\n",
      " [5 6 7]]\n"
     ]
    }
   ],
   "source": [
    "# cria o array np\n",
    "operacao_np = np.array([[1,2,3],[4,5,6]])\n",
    "\n",
    "# soma todos os elementos do array mais um\n",
    "operacao_np2 = operacao_np + 1\n",
    "print(operacao_np2 )"
   ]
  },
  {
   "cell_type": "code",
   "execution_count": 24,
   "metadata": {},
   "outputs": [
    {
     "name": "stdout",
     "output_type": "stream",
     "text": [
      "Array de zeros:\n",
      "[[0. 0. 0.]\n",
      " [0. 0. 0.]\n",
      " [0. 0. 0.]]\n",
      "\n",
      "Array de uns:\n",
      "[[1. 1. 1. 1. 1. 1. 1. 1. 1. 1. 1. 1. 1. 1. 1. 1. 1. 1. 1. 1.]\n",
      " [1. 1. 1. 1. 1. 1. 1. 1. 1. 1. 1. 1. 1. 1. 1. 1. 1. 1. 1. 1.]]\n",
      "\n",
      "Array de valores aleatórios:\n",
      "[[0.82326456 0.58646503]\n",
      " [0.54641969 0.43619187]]\n",
      "\n",
      "Array de valores igualmente espaçados:\n",
      "[ 0.   2.5  5.   7.5 10. ]\n",
      "\n",
      "Array de valores distribuídos normalmente:\n",
      "[[-0.30042763 -1.0460035   0.53527765]\n",
      " [ 1.57495084 -1.14477719  0.46983302]\n",
      " [-0.6344338   0.60065226  0.78910949]]\n",
      "\n",
      "Matriz identidade:\n",
      "[[1. 0. 0.]\n",
      " [0. 1. 0.]\n",
      " [0. 0. 1.]]\n"
     ]
    }
   ],
   "source": [
    "# metodos numpy \n",
    "\n",
    "\n",
    "import numpy as np\n",
    "\n",
    "# cria um array NumPy de zeros\n",
    "zeros = np.zeros((3, 3))\n",
    "print(\"Array de zeros:\")\n",
    "print(zeros)\n",
    "\n",
    "# cria um array NumPy de uns\n",
    "ones = np.ones((2, 2 * 10))\n",
    "print(\"\\nArray de uns:\")\n",
    "print(ones)\n",
    "\n",
    "# cria um array NumPy de valores aleatórios\n",
    "random = np.random.rand(2, 2)\n",
    "print(\"\\nArray de valores aleatórios:\")\n",
    "print(random)\n",
    "\n",
    "\n",
    "\n"
   ]
  },
  {
   "cell_type": "code",
   "execution_count": 19,
   "metadata": {},
   "outputs": [
    {
     "name": "stdout",
     "output_type": "stream",
     "text": [
      "[[ 0  1  2]\n",
      " [ 3  4  5]\n",
      " [ 6  7  8]\n",
      " [ 9 10 11]]\n"
     ]
    }
   ],
   "source": [
    "## cria uma matriz unidimensional com valores de 0 a 11\n",
    "arr = np.arange(12)\n",
    "\n",
    "# transforma a matriz unidimensional em uma matriz bidimensional de 4 linhas e 3 colunas\n",
    "arr_reshaped = arr.reshape(4, 3)\n",
    "\n",
    "print(arr_reshaped)\n"
   ]
  }
 ],
 "metadata": {
  "kernelspec": {
   "display_name": "Python 3",
   "language": "python",
   "name": "python3"
  },
  "language_info": {
   "codemirror_mode": {
    "name": "ipython",
    "version": 3
   },
   "file_extension": ".py",
   "mimetype": "text/x-python",
   "name": "python",
   "nbconvert_exporter": "python",
   "pygments_lexer": "ipython3",
   "version": "3.12.0"
  }
 },
 "nbformat": 4,
 "nbformat_minor": 2
}
