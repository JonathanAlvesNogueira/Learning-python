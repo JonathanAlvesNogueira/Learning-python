{
 "cells": [
  {
   "cell_type": "code",
   "execution_count": 12,
   "metadata": {},
   "outputs": [
    {
     "name": "stdout",
     "output_type": "stream",
     "text": [
      "55\n",
      "0.0\n"
     ]
    }
   ],
   "source": [
    "# IMPORTA A TIME \n",
    "from time import time\n",
    "\n",
    "# CRIA UMA LISTA DE 0 A 10\n",
    "a = list(range(10))\n",
    "soma = 0 \n",
    "\n",
    "# INICIA A CONTAGEM DO TEMPO\n",
    "inicio = time()\n",
    "for i in a:\n",
    "    soma += i\n",
    "\n",
    "# FINALIZA A CONTAGEM DO TEMPO\n",
    "fim = time()\n",
    "tempo = fim - inicio\n",
    "\n",
    "# IMPRIME O RESULTADO DO TEMPO E DA SOMA\n",
    "print(soma)\n",
    "print(tempo)\n"
   ]
  },
  {
   "cell_type": "code",
   "execution_count": null,
   "metadata": {},
   "outputs": [],
   "source": []
  }
 ],
 "metadata": {
  "kernelspec": {
   "display_name": "Python 3",
   "language": "python",
   "name": "python3"
  },
  "language_info": {
   "codemirror_mode": {
    "name": "ipython",
    "version": 3
   },
   "file_extension": ".py",
   "mimetype": "text/x-python",
   "name": "python",
   "nbconvert_exporter": "python",
   "pygments_lexer": "ipython3",
   "version": "3.12.0"
  }
 },
 "nbformat": 4,
 "nbformat_minor": 2
}
