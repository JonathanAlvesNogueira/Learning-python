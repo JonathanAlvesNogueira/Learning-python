{
 "cells": [
  {
   "cell_type": "code",
   "execution_count": 6,
   "metadata": {},
   "outputs": [
    {
     "data": {
      "text/plain": [
       "0.012546300888061523"
      ]
     },
     "metadata": {},
     "output_type": "display_data"
    }
   ],
   "source": [
    "\n",
    "# BIBLIOTECA PARA CRIAÇÃO DE ARRAYs, e metodos matematicos \n",
    "import numpy as np\n",
    "from time import time as tp\n",
    "\n",
    "inicio = tp()\n",
    "lista = [i+1 for i in range(100000)]\n",
    "\n",
    "for i in range(1,len(lista),1):\n",
    "    soma = i+1\n",
    "fim = tp()\n",
    "display(fim-inicio)"
   ]
  },
  {
   "cell_type": "code",
   "execution_count": 5,
   "metadata": {},
   "outputs": [
    {
     "data": {
      "text/plain": [
       "array([     1,      2,      3, ...,  99998,  99999, 100000])"
      ]
     },
     "metadata": {},
     "output_type": "display_data"
    }
   ],
   "source": [
    "lista2 = np.array(lista)\n",
    "display(lista2)"
   ]
  },
  {
   "cell_type": "code",
   "execution_count": 31,
   "metadata": {},
   "outputs": [
    {
     "data": {
      "text/plain": [
       "array([[1, 2, 3],\n",
       "       [1, 4, 5]])"
      ]
     },
     "metadata": {},
     "output_type": "display_data"
    },
    {
     "data": {
      "text/plain": [
       "'qtd elementos: '"
      ]
     },
     "metadata": {},
     "output_type": "display_data"
    },
    {
     "data": {
      "text/plain": [
       "6"
      ]
     },
     "metadata": {},
     "output_type": "display_data"
    },
    {
     "data": {
      "text/plain": [
       "'qtd linhas e colunas: '"
      ]
     },
     "metadata": {},
     "output_type": "display_data"
    },
    {
     "data": {
      "text/plain": [
       "(2, 3)"
      ]
     },
     "metadata": {},
     "output_type": "display_data"
    },
    {
     "data": {
      "text/plain": [
       "dtype('int32')"
      ]
     },
     "execution_count": 31,
     "metadata": {},
     "output_type": "execute_result"
    }
   ],
   "source": [
    "# ndim: Retorna o número de dimensões (ou eixos) de um array NumPy.\n",
    "# size: Retorna o número total de elementos em um array NumPy.\n",
    "# shape: Retorna uma tupla representando as dimensões do array NumPy - LINHAS E COLUNAS.\n",
    "# dtype: Retorna o tipo de dados dos elementos no array NumPy.\n",
    "\n",
    "\n",
    "\n",
    "lista3 = np.array([[1,2,3],[1,4,5]])\n",
    "display(lista3)\n",
    "\n",
    "display('qtd elementos: ')\n",
    "display(lista3.size)\n",
    "# quantidade de linhas e colunas\n",
    "display('qtd linhas e colunas: ')\n",
    "display(lista3.shape)\n",
    "\n",
    "#retorna tipo de dado\n",
    "lista3.dtype\n",
    "\n",
    "\n"
   ]
  },
  {
   "cell_type": "code",
   "execution_count": 35,
   "metadata": {},
   "outputs": [
    {
     "data": {
      "text/plain": [
       "3.141592653589793"
      ]
     },
     "metadata": {},
     "output_type": "display_data"
    },
    {
     "data": {
      "text/plain": [
       "5.0"
      ]
     },
     "metadata": {},
     "output_type": "display_data"
    }
   ],
   "source": [
    "# np.pi: Retorna o valor da constante matemática pi.\n",
    "# np.sqrt(x): Retorna a raiz quadrada de x.\n",
    "\n",
    "\n",
    "pi_ = np.pi\n",
    "display(pi_)\n",
    "\n",
    "raiz = np.sqrt(25)\n",
    "display(raiz)\n",
    "\n",
    "\n",
    "\n",
    "\n"
   ]
  },
  {
   "cell_type": "code",
   "execution_count": 55,
   "metadata": {},
   "outputs": [
    {
     "data": {
      "text/plain": [
       "array([[0., 0., 0.],\n",
       "       [0., 0., 0.]])"
      ]
     },
     "metadata": {},
     "output_type": "display_data"
    },
    {
     "data": {
      "text/plain": [
       "array([[1., 1., 1.],\n",
       "       [1., 1., 1.]])"
      ]
     },
     "metadata": {},
     "output_type": "display_data"
    },
    {
     "data": {
      "text/plain": [
       "array([[1., 0., 0., 0., 0.],\n",
       "       [0., 1., 0., 0., 0.],\n",
       "       [0., 0., 1., 0., 0.],\n",
       "       [0., 0., 0., 1., 0.],\n",
       "       [0., 0., 0., 0., 1.]])"
      ]
     },
     "metadata": {},
     "output_type": "display_data"
    },
    {
     "data": {
      "text/plain": [
       "array([1, 4])"
      ]
     },
     "metadata": {},
     "output_type": "display_data"
    },
    {
     "data": {
      "text/plain": [
       "array([ 0. ,  2.5,  5. ,  7.5, 10. ])"
      ]
     },
     "metadata": {},
     "output_type": "display_data"
    },
    {
     "data": {
      "text/plain": [
       "array([[ 1,  2,  3, 45,  5],\n",
       "       [ 1,  2,  3, 45,  6]])"
      ]
     },
     "metadata": {},
     "output_type": "display_data"
    }
   ],
   "source": [
    "# np.zeros(shape): Cria um array preenchido com zeros.\n",
    "# np.eye(N): Cria uma matriz identidade de ordem N.\n",
    "# np.ones(shape): Cria um array preenchido com uns.\n",
    "# np.arange(start, stop, step): Cria um array com valores espaçados uniformemente dentro de um intervalo especificado.\n",
    "# np.vstack(tup): Empilha arrays verticalmente (vertical stack).\n",
    "# np.linspace(start, stop, num): Cria um array com valores espaçados uniformemente dentro de um intervalo, especificando o número total de elementos.\n",
    "zeros_array = np.zeros((2, 3))\n",
    "display(zeros_array)\n",
    "\n",
    "ones_array = np.ones((2,3))\n",
    "display(ones_array)\n",
    "\n",
    "ey = np.eye(5)\n",
    "display(ey)\n",
    "\n",
    "arrange_ = np.arange(1,5,3)\n",
    "display(arrange_)\n",
    "\n",
    "linspace_ = np.linspace(0,10,5)\n",
    "display(linspace_)\n",
    "\n",
    "array_1 = np.array((1,2,3,45,5))\n",
    "array_2 = np.array((1,2,3,45,6))\n",
    "vstack_ = np.vstack((array_1, array_2))\n",
    "display(vstack_)"
   ]
  },
  {
   "cell_type": "code",
   "execution_count": null,
   "metadata": {},
   "outputs": [],
   "source": []
  }
 ],
 "metadata": {
  "kernelspec": {
   "display_name": "Python 3",
   "language": "python",
   "name": "python3"
  },
  "language_info": {
   "codemirror_mode": {
    "name": "ipython",
    "version": 3
   },
   "file_extension": ".py",
   "mimetype": "text/x-python",
   "name": "python",
   "nbconvert_exporter": "python",
   "pygments_lexer": "ipython3",
   "version": "3.12.0"
  }
 },
 "nbformat": 4,
 "nbformat_minor": 2
}
